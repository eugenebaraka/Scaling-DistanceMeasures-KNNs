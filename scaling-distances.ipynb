{
 "cells": [
  {
   "cell_type": "markdown",
   "metadata": {},
   "source": [
    "## SCALING AND DISTANCING\n",
    "\n",
    "### Distance\n",
    "\n",
    "In linear and logistic regression, we find how much the change in an independent variable affect the dependent variable/ or how odds go up or down when we change the independent variable. More advanced models employ the concept of distance for both regression and classification problems."
   ]
  },
  {
   "cell_type": "code",
   "execution_count": 4,
   "metadata": {},
   "outputs": [],
   "source": [
    "# Import libraries\n",
    "import pandas as pd\n",
    "import numpy as np\n",
    "import matplotlib.pyplot as plt\n",
    "import seaborn as sns\n",
    "import sklearn\n",
    "import math"
   ]
  },
  {
   "cell_type": "code",
   "execution_count": 3,
   "metadata": {},
   "outputs": [
    {
     "data": {
      "text/html": [
       "<div>\n",
       "<style scoped>\n",
       "    .dataframe tbody tr th:only-of-type {\n",
       "        vertical-align: middle;\n",
       "    }\n",
       "\n",
       "    .dataframe tbody tr th {\n",
       "        vertical-align: top;\n",
       "    }\n",
       "\n",
       "    .dataframe thead th {\n",
       "        text-align: right;\n",
       "    }\n",
       "</style>\n",
       "<table border=\"1\" class=\"dataframe\">\n",
       "  <thead>\n",
       "    <tr style=\"text-align: right;\">\n",
       "      <th></th>\n",
       "      <th>Credit Score</th>\n",
       "      <th>Loan Request Amount</th>\n",
       "      <th>Approval</th>\n",
       "    </tr>\n",
       "  </thead>\n",
       "  <tbody>\n",
       "    <tr>\n",
       "      <th>0</th>\n",
       "      <td>548</td>\n",
       "      <td>56</td>\n",
       "      <td>0</td>\n",
       "    </tr>\n",
       "    <tr>\n",
       "      <th>1</th>\n",
       "      <td>625</td>\n",
       "      <td>168</td>\n",
       "      <td>0</td>\n",
       "    </tr>\n",
       "    <tr>\n",
       "      <th>2</th>\n",
       "      <td>899</td>\n",
       "      <td>237</td>\n",
       "      <td>1</td>\n",
       "    </tr>\n",
       "    <tr>\n",
       "      <th>3</th>\n",
       "      <td>608</td>\n",
       "      <td>84</td>\n",
       "      <td>0</td>\n",
       "    </tr>\n",
       "    <tr>\n",
       "      <th>4</th>\n",
       "      <td>783</td>\n",
       "      <td>34</td>\n",
       "      <td>1</td>\n",
       "    </tr>\n",
       "  </tbody>\n",
       "</table>\n",
       "</div>"
      ],
      "text/plain": [
       "   Credit Score  Loan Request Amount  Approval\n",
       "0           548                   56         0\n",
       "1           625                  168         0\n",
       "2           899                  237         1\n",
       "3           608                   84         0\n",
       "4           783                   34         1"
      ]
     },
     "execution_count": 3,
     "metadata": {},
     "output_type": "execute_result"
    }
   ],
   "source": [
    "# Load the data\n",
    "loan_data = pd.read_csv(\"./data/loans.csv\", index_col=0)\n",
    "loan_data.head()"
   ]
  },
  {
   "cell_type": "code",
   "execution_count": 6,
   "metadata": {},
   "outputs": [
    {
     "data": {
      "text/plain": [
       "<Figure size 720x432 with 0 Axes>"
      ]
     },
     "execution_count": 6,
     "metadata": {},
     "output_type": "execute_result"
    },
    {
     "data": {
      "text/plain": [
       "<Figure size 720x432 with 0 Axes>"
      ]
     },
     "metadata": {},
     "output_type": "display_data"
    }
   ],
   "source": [
    "approved_mask = loan_data[\"Approval\"] == 1\n",
    "\n",
    "plt.figure(figsize=(10,6))"
   ]
  },
  {
   "cell_type": "markdown",
   "metadata": {},
   "source": [
    "After building a linear model, we can determine what is the new point closest to? And it may be intuitive to know if for the additional point, the loan will be approved or not. \n",
    "\n",
    "However, this only can work for two dimensional data and a ew data points. Also, if the data is easy to classify; if we get more data and deal with points along the border, we need a more abjective definition of proximity or distance. \n",
    "\n",
    "### Distance Metrics\n",
    "- Euclidean Distance\n",
    "- Manhattan Distance\n",
    "- Cosine Distance\n",
    "- Levenshtein Distance\n",
    "\n",
    "#### Euclidean Distance\n",
    "It is sometimes called L2 distance/L2 norm. It is the square root of the sum of the squared differences of the two vectors.\n",
    "\n",
    "#### Manhattan Distance\n",
    "Same as L2 distance but no square root, no square. It is the sum of the absolute differences of the two vectors.\n",
    "\n",
    "#### Cosine Distance\n",
    "It is the cosine of the angle between the two vectors. The smaller the angle, the closer the vectors are. Use dot product to calculate cosine similarity and the distance is 1-cosine similarity. Usually used in to calculate semantic similarity in text data\n",
    "\n",
    "#### Levenshtein Distance\n",
    "Usually used in text data to calculate the similarity between two strings when we don't have word vectors. For example, the distance between \"cat\" and \"hat\" is 1 (replace \"h\" with \"c\")"
   ]
  },
  {
   "cell_type": "code",
   "execution_count": 7,
   "metadata": {},
   "outputs": [],
   "source": [
    "def eucledian_distance(a, b):\n",
    "    sum_of_squares = 0\n",
    "    for i in range(len(a)):\n",
    "        sum_of_squares += (a[i] - b[i])**2\n",
    "    return math.sqrt(sum_of_squares)"
   ]
  },
  {
   "cell_type": "code",
   "execution_count": null,
   "metadata": {},
   "outputs": [],
   "source": [
    "# ratings for recommender system\n",
    "p1 = [3, 3, 3, 5, 5]\n",
    "p2 = [1, 1, 1, 3, 3]\n",
    "\n"
   ]
  },
  {
   "cell_type": "code",
   "execution_count": null,
   "metadata": {},
   "outputs": [],
   "source": [
    "def cosine_distance(a, b):\n",
    "    numerator = 0\n",
    "    for i in range(len(a))"
   ]
  },
  {
   "cell_type": "markdown",
   "metadata": {},
   "source": [
    "### Scaling\n",
    "Credict score has a range, however the loan amount can be very large or very small; i.e., can be infinite. We need to standardize/normalize the data to make the variables more comparable, which will help our model to have an easier time to converge towards the optimal solution.\n",
    "\n",
    "Methods to standardize the data:\n",
    "- Min-Max Scaling\n",
    "- Standard scaler (used in practice)"
   ]
  },
  {
   "cell_type": "markdown",
   "metadata": {},
   "source": []
  }
 ],
 "metadata": {
  "kernelspec": {
   "display_name": "Python 3.9.12 ('base')",
   "language": "python",
   "name": "python3"
  },
  "language_info": {
   "codemirror_mode": {
    "name": "ipython",
    "version": 3
   },
   "file_extension": ".py",
   "mimetype": "text/x-python",
   "name": "python",
   "nbconvert_exporter": "python",
   "pygments_lexer": "ipython3",
   "version": "3.9.12"
  },
  "orig_nbformat": 4,
  "vscode": {
   "interpreter": {
    "hash": "b09fb76671cc417157557290b6d443bf1459bd305c8e4ba26dbf59e96553c659"
   }
  }
 },
 "nbformat": 4,
 "nbformat_minor": 2
}
